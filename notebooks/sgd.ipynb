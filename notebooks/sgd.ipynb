{
 "cells": [
  {
   "cell_type": "markdown",
   "metadata": {},
   "source": [
    "# Stochastic Gradient Descent"
   ]
  },
  {
   "cell_type": "markdown",
   "metadata": {},
   "source": [
    "As in other regression models, we have to deal with the question of how to fit the parameters of the MLP. In the language of neural networks, we speak of **training the model**."
   ]
  },
  {
   "cell_type": "markdown",
   "metadata": {},
   "source": [
    "The standard approach to fitting parameters is *maximum-likelihood estimation (MLE)*. For instance, consider a *linear model* $y = wx + \\mathcal{N}(0, 1)$ with weight vector $ w = (w_1,\\ldots, w_p)^\\top$ and i.i.d. training data $\\{(x_1, y_1), \\ldots, (x_n, y_n)\\}$. Writing $y = (y_1, \\ldots, y_n)^\\top$ and $X = (x_1, \\ldots, x_N)^\\top$ the log-likelihood $l$ is, given by the quadratic function\n",
    "$$l(w) =  \\sum_{i \\le N}\\log p_{\\mathcal{N}(0,1)}(y_i - w^\\top x_i) = -\\frac12 \\sum_{i} (y_i - w ^\\top x_i)^2  + C = -\\frac12 \\big(y^\\top y - 2 y^\\top Xw + (Xw)^\\top Xw\\big) + C$$"
   ]
  },
  {
   "cell_type": "markdown",
   "metadata": {},
   "source": [
    "In the language of deep learning, the negative log-likelihood $L(w)=-l(w)$ is called **loss function**. \n",
    "with gradient\n",
    "$$\\nabla_w L = - X^\\top y + X^\\top Xw.$$\n",
    "Solving $\\nabla_w l =0$, minimization of the loss function results in $w = (X^\\top X)^{-1} X^\\top y$. "
   ]
  },
  {
   "cell_type": "markdown",
   "metadata": {},
   "source": [
    "In general, the total loss function accumulates additively losses over all samples in the training data:\n",
    "$$L(w) = \\sum_{i \\le N} \\ell(y_i, f_w(x_i)).$$\n",
    "The linear model uses the *mean-squared error*: $\\ell(y, y') = \\tfrac12 (y - y')^2$."
   ]
  },
  {
   "cell_type": "markdown",
   "metadata": {},
   "source": [
    "However, if the model is non-linear, then the log-likelihood is typically no longer quadratic in the weights $\\theta$ and a closed-form minimization of $L(\\theta)$ is typically no longer possible. We therefore have to resort to numerical optimization methods."
   ]
  },
  {
   "cell_type": "markdown",
   "metadata": {},
   "source": [
    "## Vanilla Gradient Descent"
   ]
  },
  {
   "cell_type": "markdown",
   "metadata": {},
   "source": [
    "The most naïve optimization procedure for minimizing the loss function $L$ is **gradient descent**, where we iteratively change the weights by taking steps in the direction of the negative gradient $-\\nabla_w L$ of the loss function:\n",
    "$$w^{(i+1)} = w^{(i)} - \\alpha \\nabla_w L(w^{(i)}).$$\n"
   ]
  },
  {
   "cell_type": "markdown",
   "metadata": {},
   "source": [
    "<img src=\"images/gradientDesc.png\" alt=\"Drawing\" style=\"width: 500px;\"/>\n",
    "https://developers.google.com/machine-learning/crash-course/reducing-loss/gradient-descent"
   ]
  },
  {
   "cell_type": "markdown",
   "metadata": {},
   "source": [
    "The [Google Machine Learning Course](./images/learnRate.html) provides a nice illustration of gradient descent."
   ]
  },
  {
   "cell_type": "markdown",
   "metadata": {},
   "source": [
    "The step size $\\alpha > 0$ is called **learning rate**. In contrast to Newton-Raphson, the learning rate is not computed as a function of the current weights $w^{(i)}$, but rather tuned manually. Whereas choosing the learning rate too large can cause instabilities and failure of convergence, choosing the learning rate too small leads to long convergence times."
   ]
  },
  {
   "cell_type": "markdown",
   "metadata": {},
   "source": [
    "### Automatic Gradient Computation"
   ]
  },
  {
   "cell_type": "markdown",
   "metadata": {},
   "source": [
    "If the MLP $f_w$ consists of many hidden layers, then computing the gradient by hand is painful. A key asset of tensorflow is the automated gradient computation."
   ]
  },
  {
   "cell_type": "code",
   "execution_count": 6,
   "metadata": {},
   "outputs": [
    {
     "ename": "ValueError",
     "evalue": "tf.enable_eager_execution must be called at program startup.",
     "output_type": "error",
     "traceback": [
      "\u001b[0;31m---------------------------------------------------------------------------\u001b[0m",
      "\u001b[0;31mValueError\u001b[0m                                Traceback (most recent call last)",
      "\u001b[0;32m<ipython-input-6-55d22336413e>\u001b[0m in \u001b[0;36m<module>\u001b[0;34m()\u001b[0m\n\u001b[1;32m      1\u001b[0m \u001b[0;32mimport\u001b[0m \u001b[0mtensorflow\u001b[0m \u001b[0;32mas\u001b[0m \u001b[0mtf\u001b[0m\u001b[0;34m\u001b[0m\u001b[0m\n\u001b[1;32m      2\u001b[0m \u001b[0;32mimport\u001b[0m \u001b[0mtensorflow\u001b[0m\u001b[0;34m.\u001b[0m\u001b[0mcontrib\u001b[0m\u001b[0;34m.\u001b[0m\u001b[0meager\u001b[0m \u001b[0;32mas\u001b[0m \u001b[0mtfe\u001b[0m\u001b[0;34m\u001b[0m\u001b[0m\n\u001b[0;32m----> 3\u001b[0;31m \u001b[0mtfe\u001b[0m\u001b[0;34m.\u001b[0m\u001b[0menable_eager_execution\u001b[0m\u001b[0;34m(\u001b[0m\u001b[0;34m)\u001b[0m\u001b[0;34m\u001b[0m\u001b[0m\n\u001b[0m",
      "\u001b[0;32m~/.local/lib/python3.6/site-packages/tensorflow/python/framework/ops.py\u001b[0m in \u001b[0;36menable_eager_execution\u001b[0;34m(config, device_policy, execution_mode)\u001b[0m\n\u001b[1;32m   5466\u001b[0m   \u001b[0;32melse\u001b[0m\u001b[0;34m:\u001b[0m\u001b[0;34m\u001b[0m\u001b[0m\n\u001b[1;32m   5467\u001b[0m     raise ValueError(\n\u001b[0;32m-> 5468\u001b[0;31m         \"tf.enable_eager_execution must be called at program startup.\")\n\u001b[0m\u001b[1;32m   5469\u001b[0m \u001b[0;34m\u001b[0m\u001b[0m\n\u001b[1;32m   5470\u001b[0m   \u001b[0;31m# Monkey patch to get rid of an unnecessary conditional since the context is\u001b[0m\u001b[0;34m\u001b[0m\u001b[0;34m\u001b[0m\u001b[0m\n",
      "\u001b[0;31mValueError\u001b[0m: tf.enable_eager_execution must be called at program startup."
     ]
    }
   ],
   "source": [
    "import tensorflow as tf\n",
    "import tensorflow.contrib.eager as tfe\n",
    "tfe.enable_eager_execution()"
   ]
  },
  {
   "cell_type": "markdown",
   "metadata": {},
   "source": [
    "Let's see how this works for the linear model. For simplicity, we only keep the matrix weights and leave the bias aside."
   ]
  },
  {
   "cell_type": "code",
   "execution_count": 7,
   "metadata": {},
   "outputs": [],
   "source": [
    "input_dim = 5\n",
    "\n",
    "class LM(tfe.Network):  \n",
    "    def __init__(self):    \n",
    "        super(LM, self).__init__()   \n",
    "        self.W = tfe.Variable(tf.random_uniform((1,input_dim), -1, 1))\n",
    "    \n",
    "    def call(self, input):   \n",
    "            result = tf.matmul(self.W, input)\n",
    "            return result"
   ]
  },
  {
   "cell_type": "markdown",
   "metadata": {},
   "source": [
    "As before, we can now compute the value of the model given the initial parameters. To make it more comparable to a later setting, we increase the sample size to 1,000,000. We also make an assumption of a true model and generate corresponding response variables."
   ]
  },
  {
   "cell_type": "code",
   "execution_count": 5,
   "metadata": {},
   "outputs": [],
   "source": [
    "tf.set_random_seed(42)\n",
    "input_size = int(1e6)\n",
    "\n",
    "model = LM()\n",
    "x = tf.random_uniform((input_dim, input_size), -1, 1)\n",
    "y_pred = model(x)\n",
    "\n",
    "w_true = [[1., 2., 3., 4., 5.]]\n",
    "y = tf.matmul(w_true, x) + tf.random_uniform((1, input_size), -.1, .1)"
   ]
  },
  {
   "cell_type": "markdown",
   "metadata": {},
   "source": [
    "As the loss function, we use mean-squared error."
   ]
  },
  {
   "cell_type": "code",
   "execution_count": 5,
   "metadata": {},
   "outputs": [],
   "source": [
    "def loss_function(model, x, y):  \n",
    "    y_ = model(x)\n",
    "    return tf.losses.mean_squared_error(y, y_) "
   ]
  },
  {
   "cell_type": "markdown",
   "metadata": {},
   "source": [
    "In the beginning, the weight matrix is far away from its true value"
   ]
  },
  {
   "cell_type": "code",
   "execution_count": 6,
   "metadata": {},
   "outputs": [
    {
     "data": {
      "text/plain": [
       "<tf.Variable 'Variable:0' shape=(1, 5) dtype=float32, numpy=\n",
       "array([[ 0.3291242 , -0.11798644, -0.294235  , -0.07103491, -0.9326792 ]],\n",
       "      dtype=float32)>"
      ]
     },
     "execution_count": 6,
     "metadata": {},
     "output_type": "execute_result"
    }
   ],
   "source": [
    "model.W"
   ]
  },
  {
   "cell_type": "markdown",
   "metadata": {},
   "source": [
    "With tensorflow, we can retrieve both the gradient and the actual values of the weights."
   ]
  },
  {
   "cell_type": "code",
   "execution_count": 7,
   "metadata": {},
   "outputs": [
    {
     "data": {
      "text/plain": [
       "[(<tf.Tensor: id=113, shape=(1, 5), dtype=float32, numpy=\n",
       "  array([[-0.44741115, -1.4015851 , -2.1849227 , -2.7139482 , -3.949926  ]],\n",
       "        dtype=float32)>,\n",
       "  <tf.Variable 'Variable:0' shape=(1, 5) dtype=float32, numpy=\n",
       "  array([[ 0.3291242 , -0.11798644, -0.294235  , -0.07103491, -0.9326792 ]],\n",
       "        dtype=float32)>)]"
      ]
     },
     "execution_count": 7,
     "metadata": {},
     "output_type": "execute_result"
    }
   ],
   "source": [
    "tfe.implicit_gradients(loss_function)(model, x, y)"
   ]
  },
  {
   "cell_type": "markdown",
   "metadata": {},
   "source": [
    "After taking 500 gradient steps the weights are much closer to the true value."
   ]
  },
  {
   "cell_type": "code",
   "execution_count": 32,
   "metadata": {},
   "outputs": [
    {
     "name": "stdout",
     "output_type": "stream",
     "text": [
      "<tf.Variable 'Variable:0' shape=(1, 5) dtype=float32, numpy=\n",
      "array([[0.9762546, 1.9234493, 2.881829 , 3.8563163, 4.7897825]],\n",
      "      dtype=float32)>\n",
      "CPU times: user 36.9 s, sys: 9.91 s, total: 46.8 s\n",
      "Wall time: 19.1 s\n"
     ]
    }
   ],
   "source": [
    "%%time\n",
    "for i in range(500):\n",
    "    grad = tfe.implicit_gradients(loss_function)(model, x, y)[0][0]\n",
    "    model.W.assign_sub(.01 * grad)\n",
    "print(model.W)"
   ]
  },
  {
   "cell_type": "markdown",
   "metadata": {},
   "source": [
    "## Initialization"
   ]
  },
  {
   "cell_type": "markdown",
   "metadata": {},
   "source": [
    "Note that using backpropagation as optimization method has important consequences on also on the choice of initial weights. Indeed, if all weights and biases are initialized as 0, then gradients tend to vanish or degenerate and no learning is possible."
   ]
  },
  {
   "cell_type": "markdown",
   "metadata": {},
   "source": [
    " Hence, we need to rely on a random initialization. However, if the scale of the random initial weights is chosen too large, then gradient descent results into exploding gradients. What has been found to work well in practice is the [Xavier-Glorot initialization](http://proceedings.mlr.press/v9/glorot10a/glorot10a.pdf), where weights are initialized in the interval $[-\\sqrt{6}/\\sqrt{d_\\mathsf{in}+d_\\mathsf{out}},\\sqrt{6}/\\sqrt{d_\\mathsf{in}+d_\\mathsf{out}}]$, where $d_\\mathsf{in}$ and $d_\\mathsf{out}$ denote the input and output dimensions of the considered layer."
   ]
  },
  {
   "cell_type": "markdown",
   "metadata": {},
   "source": [
    "$\\def\\ms{\\mathsf}$\n",
    "Loosely speaking, in the forward pass the variance of the randomness at a neuron in the output is $d_\\mathsf{out}\\mathsf{Var}(w_{ij})$. Similarly, in the backward pass, we would obtain a restriction $d_\\mathsf{in}\\mathsf{Var}(w_{ij})$ should be constant. A compromise between the two conditions leads to the asserted initialization proposal."
   ]
  },
  {
   "cell_type": "markdown",
   "metadata": {},
   "source": [
    "## Homework: Iris classification"
   ]
  },
  {
   "cell_type": "markdown",
   "metadata": {},
   "source": [
    "Define a single-layer MLP for the classification problem in the iris dataset and optimize it via gradient descent."
   ]
  },
  {
   "cell_type": "markdown",
   "metadata": {},
   "source": [
    "Optimize over the *cross-entropy loss*. If $(p_1, p_2, p_3)$ are the predicted class probabilities and $y$ is the true outcome, then this loss is given by \n",
    "$$\\ell(y, \\{p_i\\}_{i \\le 3}) = -\\sum_{i=1}^3 \\mathbb{1}\\{y = i\\} \\log p_i.$$"
   ]
  },
  {
   "cell_type": "markdown",
   "metadata": {},
   "source": [
    "Assuming the values of the final layer correspond to the class probabilities, optimizing cross-entropy is equivalent to maximum-likelihood estimation."
   ]
  },
  {
   "cell_type": "markdown",
   "metadata": {},
   "source": [
    "## Stochastic Gradient Descent"
   ]
  },
  {
   "cell_type": "markdown",
   "metadata": {},
   "source": [
    "We see that if there is a lot of training data, then computing gradients iteratively can be prohibitively time-consuming. The idea of **stochastic gradient descent (SGD)** is to select only a subset $J$  of all training indices. The associated sub-sample is called **mini-batch**. Instead of computing the loss based on all training data, only the data in the mini-batch is used. That is, \n",
    "$$L_{\\mathsf{SGD}}(w) = \\sum_{i \\in J} \\ell(y_i, f_w(x_i)).$$\n"
   ]
  },
  {
   "cell_type": "markdown",
   "metadata": {},
   "source": [
    "Let's see how this works out for the linear model considered above."
   ]
  },
  {
   "cell_type": "code",
   "execution_count": 40,
   "metadata": {},
   "outputs": [
    {
     "name": "stdout",
     "output_type": "stream",
     "text": [
      "<tf.Variable 'Variable:0' shape=(1, 5) dtype=float32, numpy=\n",
      "array([[0.9715018, 1.9286776, 2.8780506, 3.8595467, 4.7856936]],\n",
      "      dtype=float32)>\n",
      "CPU times: user 746 ms, sys: 0 ns, total: 746 ms\n",
      "Wall time: 748 ms\n"
     ]
    }
   ],
   "source": [
    "%%time\n",
    "import numpy.random as random\n",
    "batch_size = 128\n",
    "tf.set_random_seed(42)\n",
    "model = LM()\n",
    "\n",
    "for i in range(500):\n",
    "    xb = tf.slice(x, [0, i * batch_size], [input_dim, batch_size])\n",
    "    yb = tf.slice(y, [0, i * batch_size], [1, batch_size])\n",
    "    \n",
    "    grad = tfe.implicit_gradients(loss_function)(model, xb, yb)[0][0]\n",
    "    model.W.assign_sub(.01 * grad)\n",
    "print(model.W)"
   ]
  },
  {
   "cell_type": "markdown",
   "metadata": {},
   "source": [
    "Hence, we arrive almost at the same accuracy in a fraction of the time. Moreover, the randomness injected by choosing only to optimize over mini-batches helps to fight overfitting and leads to solutions that generalize better."
   ]
  },
  {
   "cell_type": "markdown",
   "metadata": {},
   "source": [
    "### Under the Hood: Backpropagation"
   ]
  },
  {
   "cell_type": "markdown",
   "metadata": {},
   "source": [
    "We see that `tensorflow` does a great job computing gradients for us. But what actually happens, when calling `implicit_gradients`? [Recall](./mlp.ipynb) that an MLP can be written in the form\n",
    "$$f(x) = a_L(W_L \\cdot a_{L-1}(W_{L-1}\\cdots (W_2 \\cdot a_1(W_1 \\cdot x + b_1) + b_2)\\cdots) + b_{L})$$\n",
    "with weights $W_i \\in \\mathbb{R}^{\\ell_i \\times \\ell_{i-1}}$, biases $b_i \\in \\mathbb{R}^{\\ell_i}$ and activation functions $a_i:\\mathbb{R}^{\\ell_i} \\to \\mathbb{R}^{\\ell_i}$."
   ]
  },
  {
   "cell_type": "markdown",
   "metadata": {},
   "source": [
    "We can write $f$ more succinctly as a composition of functions \n",
    "$$f(x) = g^{(L)}_{W_L, b_L}(\\cdots (g^{(2)}_{W_2, b_2}(g^{(1)}_{W_1, b_1}(x)))),$$\n",
    "where $g^{(i)}_{W_i, b_i}(z) = a_i(W_i z + b_i)$. Since $f$ is a composition of functions, the gradients can now be computes by invoking the chain rule. This technique of automatic differentiation is called **backpropagation** and goes back to a [seminal paper](https://www.nature.com/articles/323533a0) by David E. Rumelhart, Geoffrey E. Hinton & Ronald J. Williams published in 1986."
   ]
  },
  {
   "cell_type": "markdown",
   "metadata": {},
   "source": [
    "The [Google Machine Learning Crashcourse](./images/backProp.html) provides a beautiful illustration for backpropagation."
   ]
  },
  {
   "cell_type": "markdown",
   "metadata": {},
   "source": [
    "<img src=\"images/backProp.png\" alt=\"Drawing\" style=\"width: 400px;\"/>\n",
    "https://google-developers.appspot.com/machine-learning/crash-course/backprop-scroll/"
   ]
  },
  {
   "cell_type": "markdown",
   "metadata": {},
   "source": [
    "We explain the general idea in the case where $L = 2$ without biases: $b_2 = b_1 = 0$. Since $a_2$ is typically a loss function, we assume the last layer to be one-dimensional, i.e., $\\ell_2=1$. To simplify notation, we write $\\ell = \\ell_1$ and $m = \\ell_0$. Hence, $W_2 = (w_{2;1}, w_{2;2}, \\ldots, w_{2;\\ell})$."
   ]
  },
  {
   "cell_type": "markdown",
   "metadata": {},
   "source": [
    "Hence, writing $\\big(g^{(1)}_{W_1}(x)\\big)_k$ for the $k$-th component of $g^{(1)}_{W_1}(x)$, the chain rule gives\n",
    "\\begin{align*}\n",
    "\\frac{\\partial}{\\partial w_{2;j}}a_2(W_2 g^{(1)}_{W_1}(x))&= \\frac{\\partial}{\\partial w_{2;j}}a_2\\Big(\\sum_k w_{2;k} \n",
    "\\big(g^{(1)}_{W_1}(x)\\big)_k\\Big)\\\\\n",
    "&= a_2'\\Big(\\sum_k w_{2;k} \n",
    "\\big(g^{(1)}_{W_1}(x)\\big)_k\\Big) \\frac{\\partial}{\\partial w_{2;j}}\\sum_k w_{2;k} \n",
    "\\big(g^{(1)}_{W_1}(x)\\big)_k\\\\\n",
    "&= a_2'\\Big(W_2 g^{(1)}_{W_1}(x)\\Big)\\big(g^{(1)}_{W_1}(x)\\big)_j\n",
    "\\end{align*}\n",
    "Hence, \n",
    "$$\\nabla_{W_2} f(x) =  a_2'(W_2 g^{(1)}_{W_1}(x))g^{(1)}_{W_1}(x).$$"
   ]
  },
  {
   "cell_type": "markdown",
   "metadata": {},
   "source": [
    "Note that the expressions $W_2 g^{(1)}_{W_1}(x)$ and $g^{(1)}_{W_1}(x)$ were already evaluated when computing $f(x) = a_2(W_2 a_1(W_1x))$"
   ]
  },
  {
   "cell_type": "markdown",
   "metadata": {},
   "source": [
    "The computation of the partial derivatives is similar with the exception that we now also have to apply the chain rule for $g_{W_1}^{(1)}$:\n",
    "\\begin{align*}\n",
    "\\frac{\\partial}{\\partial w_{1;i,j}}a_2(W_2 g^{(1)}_{W_1}(x))&= a_2'\\Big(W_2 g^{(1)}_{W_1}(x)\\Big) \\frac{\\partial}{\\partial w_{1;i,j}}\\Big(W_2 g^{(1)}_{W_1}(x)\\Big)= a_2'\\Big(W_2 g^{(1)}_{W_1}(x)\\Big) W_2 \\frac{\\partial}{\\partial w_{1;i,j}}g^{(1)}_{W_1}(x)\n",
    "\\end{align*}"
   ]
  },
  {
   "cell_type": "markdown",
   "metadata": {},
   "source": [
    "Note that we again have already computed $a_2'\\Big(W_2 g^{(1)}_{W_1}(x)\\Big)$ when computing gradients with respect to $W_2$. Hence, we can proceed recursively and it only remains to compute the gradients for $g^{(1)}_{W_1}$."
   ]
  },
  {
   "cell_type": "markdown",
   "metadata": {},
   "source": [
    "The above calculations already provide a very strong hint that when computing $f(x)$ and its gradients $f(x)$ many intermediate should be stored and re-used at a later stage. More precisely, the training via SGD decomposes into a **forward pass** and a **backward pass**."
   ]
  },
  {
   "cell_type": "markdown",
   "metadata": {},
   "source": [
    "#### Forward Pass"
   ]
  },
  {
   "cell_type": "markdown",
   "metadata": {},
   "source": [
    "First, we compute $f(x)= g^{(L)}_{W_L}(\\cdots (g^{(2)}_{W_2}(g^{(1)}_{W_1}(x))))$ recursively:\n",
    "\n",
    "* compute $g^{(1)}_{W_1}(x)$ and save the value as $h^{(1)}$\n",
    "* compute $g^{(2)}_{W_2}(h^{(1)})$ and save the value as $h^{(2)}$\n",
    "* continue recursively until arriving at $f(x) = g^{(L)}_{W_L}(h^{(L-1)})$"
   ]
  },
  {
   "cell_type": "markdown",
   "metadata": {},
   "source": [
    "This is called the **forward phase** since we start with the computation of the innermost expression and make our way forward until we arrive at the outermost position."
   ]
  },
  {
   "cell_type": "markdown",
   "metadata": {},
   "source": [
    "#### Backward Phase"
   ]
  },
  {
   "cell_type": "markdown",
   "metadata": {},
   "source": [
    "In the backward phase, we compute the gradients of $\\nabla_W f(x)$ via the chain rule. Here, we start by computing the outermost expressions and make our way to the innermost expression. \n",
    "* To compute the gradients $\\nabla_{W_L} f(x)$ with respect to the outermost weights, we proceed as above to see that $\\nabla_{W_L} f(x) = (\\nabla_{W_L} g^{(L)}_{W_L})(h^{(L-1)}) \\cdot h^{(L-1)}$. \n",
    "* To compute the gradients $\\nabla_{W_{L-1}} f(x)$ with respect to $W_{L-1}$, we proceed as above to see that $\\nabla_{W_{L-1}} f(x) = (\\nabla g^{(L)}_{W_L})(h^{(L-1)}) \\cdot (\\nabla_{W_{L-1}} g^{(L-1)}_{W_{L-1}})(h^{(L-2)})$. We save the expression $(\\nabla g^{(L)}_{W_L})(h^{(L-1)})$\n",
    "* To compute the gradients $\\nabla_{W_{L-2}} f(x)$ with respect to $W_{L-2}$, we proceed as above to see that $\\nabla_{W_{L-2}} f(x) = (\\nabla g^{(L)}_{W_L})(h^{(L-2)}) \\cdot (\\nabla g^{(L-1)}_{W_{L-1}}(h^{(L-2)}) (\\nabla_{W_{L-1}} g^{(L-2)}_{W_{L-2}})(h^{(L-3)})$. We can reuse the expression $(\\nabla g^{(L)}_{W_L})(h^{(L-1)})$ from the previous step and  save additionally the expression $\\nabla g^{(L-1)}_{W_{L-1}}(h^{(L-2)})$"
   ]
  },
  {
   "cell_type": "markdown",
   "metadata": {},
   "source": [
    "You already see that the computations can get rather involved. All the details are presented in  [Chapter 6.5 of the monograph on Deep Learning](http://www.deeplearningbook.org/) by  Aaron Courville, Ian J. Goodfellow, and Yoshua Bengio."
   ]
  },
  {
   "cell_type": "markdown",
   "metadata": {},
   "source": [
    "The upshot of the backpropagation algorithm is that one training step in the backpropagation algorithm takes essentially one forward pass and one backward pass through the network. Hence, it takes roughly twice as long as a simple evaluation. However, as we will see in the practical examples, many passes over the data might be needed until the weights have converged."
   ]
  },
  {
   "cell_type": "markdown",
   "metadata": {},
   "source": [
    "## Homework: Backpropagation -- Theory"
   ]
  },
  {
   "cell_type": "markdown",
   "metadata": {},
   "source": [
    "Finish the computation of $\\nabla_{W_1}f(x)$."
   ]
  },
  {
   "cell_type": "markdown",
   "metadata": {},
   "source": [
    "## Homework: Backpropagation - Implementation"
   ]
  },
  {
   "cell_type": "markdown",
   "metadata": {},
   "source": [
    "Implement the backpropagation with $L = 2$."
   ]
  }
 ],
 "metadata": {
  "kernelspec": {
   "display_name": "Python 3",
   "language": "python",
   "name": "python3"
  },
  "language_info": {
   "codemirror_mode": {
    "name": "ipython",
    "version": 3
   },
   "file_extension": ".py",
   "mimetype": "text/x-python",
   "name": "python",
   "nbconvert_exporter": "python",
   "pygments_lexer": "ipython3",
   "version": "3.6.5"
  }
 },
 "nbformat": 4,
 "nbformat_minor": 2
}

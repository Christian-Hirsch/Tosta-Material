{
 "cells": [
  {
   "cell_type": "markdown",
   "metadata": {},
   "source": [
    "# Multilayer Perceptron"
   ]
  },
  {
   "cell_type": "markdown",
   "metadata": {},
   "source": [
    "After the first notebook, we now have an impression on what neural networks and deep learning are capable of. But one question remained open:\n",
    "<center>__What is a neural network?__</center>"
   ]
  },
  {
   "cell_type": "markdown",
   "metadata": {},
   "source": [
    "We start with the most basic form of a neural network, the **multi-layer perceptron (MLP)**, which goes back to Frank Rosenblatt in 1957."
   ]
  },
  {
   "cell_type": "markdown",
   "metadata": {},
   "source": [
    "<img src=\"images/rosenblatt.jpeg\"  style=\"width: 600px;\"/>\n",
    "http://videolectures.net/site/normal_dl/tag=983658/deeplearning2015_bottou_neural_networks_01.pdf."
   ]
  },
  {
   "cell_type": "markdown",
   "metadata": {},
   "source": [
    "## Definition of MLP"
   ]
  },
  {
   "cell_type": "markdown",
   "metadata": {},
   "source": [
    "Mathematically speaking, an MLP is a function $f: \\mathbb{R}^m \\to \\mathbb{R}^n$ that is written in the form \n",
    "$$f(x) = a_L(W_L \\cdot a_{L-1}(W_{L-1}\\cdots a_2(W_2 \\cdot a_1(W_1 \\cdot x + b_1) + b_2)\\cdots) + b_{L}),$$\n",
    "where the $W_i \\in \\mathbb{R}^{\\ell_i \\times \\ell_{i-1}}$, $b_i \\in \\mathbb{R}^{\\ell_i}$ and $a_i:\\mathbb{R}^{\\ell_i} \\to \\mathbb{R}^{\\ell_i}$ are **weight matrices**, **biases** and **activation functions**, respectively."
   ]
  },
  {
   "cell_type": "markdown",
   "metadata": {},
   "source": [
    "<img src=\"images/iris.jpg\"  style=\"width: 900px;\"/>"
   ]
  },
  {
   "cell_type": "markdown",
   "metadata": {},
   "source": [
    "<img src=\"images/mlp.png\"  style=\"width: 900px;\"/>\n",
    "https://www.tensorflow.org/get_started/premade_estimators"
   ]
  },
  {
   "cell_type": "markdown",
   "metadata": {},
   "source": [
    "### Example: Linear Regression"
   ]
  },
  {
   "cell_type": "markdown",
   "metadata": {},
   "source": [
    "Choosing $L=1$ and $a(x) = x$ as the identity, gives $f(x) = W x + b$. In particular, linear regression is a special case of neural networks."
   ]
  },
  {
   "cell_type": "markdown",
   "metadata": {},
   "source": [
    "To work with neural networks, Google's [tensorflow](https://www.tensorflow.org/) is a rich and well-documented library. Its core is built around computational graphs. For exploration, it is more convenient to use the lighter *eager execution environment*."
   ]
  },
  {
   "cell_type": "code",
   "execution_count": 6,
   "metadata": {},
   "outputs": [],
   "source": [
    "import tensorflow as tf\n",
    "import tensorflow.contrib.eager as tfe\n",
    "tfe.enable_eager_execution()"
   ]
  },
  {
   "cell_type": "markdown",
   "metadata": {},
   "source": [
    "The linear model can be realized conveniently in tensorflow."
   ]
  },
  {
   "cell_type": "code",
   "execution_count": 2,
   "metadata": {},
   "outputs": [],
   "source": [
    "input_dim = 13\n",
    "\n",
    "class LM(tfe.Network):  \n",
    "    def __init__(self):    \n",
    "        super(LM, self).__init__()  \n",
    "        self.b = tfe.Variable(tf.zeros((1,)))\n",
    "        self.W = tfe.Variable(tf.random_uniform((1,input_dim), -1, 1))\n",
    "    \n",
    "    def call(self, input):   \n",
    "            result = tf.matmul(self.W, input) + self.b  \n",
    "            return result"
   ]
  },
  {
   "cell_type": "markdown",
   "metadata": {},
   "source": [
    "Given the initial weights, we can evaluate the model on input data."
   ]
  },
  {
   "cell_type": "code",
   "execution_count": 3,
   "metadata": {},
   "outputs": [
    {
     "data": {
      "text/plain": [
       "<tf.Tensor: id=33, shape=(1, 1), dtype=float32, numpy=array([[1.5954614]], dtype=float32)>"
      ]
     },
     "execution_count": 3,
     "metadata": {},
     "output_type": "execute_result"
    }
   ],
   "source": [
    "tf.set_random_seed(42)\n",
    "\n",
    "model = LM()\n",
    "x = tf.random_uniform((input_dim,1), -1, 1)\n",
    "model(x)"
   ]
  },
  {
   "cell_type": "markdown",
   "metadata": {},
   "source": [
    "### Example: Logistic Regression"
   ]
  },
  {
   "cell_type": "markdown",
   "metadata": {},
   "source": [
    "Next, we choose $L=1$ and $a(x) = \\tfrac{1}{1+e^{-x}}$ to recover the case of logistic regression. That is,  \n",
    "$$f(x) = \\frac{1}{1 + e^{-W x - b}}$$"
   ]
  },
  {
   "cell_type": "code",
   "execution_count": 3,
   "metadata": {},
   "outputs": [
    {
     "data": {
      "image/png": "[encoded data removed]",
      "text/plain": [
       "<Figure size 432x288 with 1 Axes>"
      ]
     },
     "metadata": {},
     "output_type": "display_data"
    }
   ],
   "source": [
    "import matplotlib.pyplot as plt  \n",
    "import numpy as np  \n",
    "%matplotlib inline\n",
    "\n",
    "t = np.arange(-5, 5, 0.01)  \n",
    "s = 1/(1 + np.exp(-t))\n",
    "plt.plot(t, s)  \n",
    "\n",
    "plt.xlabel('x')  \n",
    "plt.ylabel('1/(1 + exp(-x))')  \n",
    "plt.title('logistic activation function')   \n",
    "plt.show()  "
   ]
  },
  {
   "cell_type": "markdown",
   "metadata": {},
   "source": [
    "### Example: Softmax"
   ]
  },
  {
   "cell_type": "markdown",
   "metadata": {},
   "source": [
    "The example of logistic regression described above is only suitable for distinguishing two classes. When we want to distinguish $n \\ge 3$ classes, we can use an extension known as **soft-max**."
   ]
  },
  {
   "cell_type": "markdown",
   "metadata": {},
   "source": [
    "Suppose $x \\in \\mathbb R^m$ is an $m$-dimensional feature-vector. Then, for a weight-matrix $W \\in \\mathbb R^{n \\times m}$ and a bias-vector $b \\in \\mathbb R^n$, we set $z = Wx + b$. The *soft-max* of $z$ is defined as the vector whose $k$th component equals\n",
    "$$\\frac{e^{z_k}}{\\sum_{i \\le n} e^{z_i}}$$"
   ]
  },
  {
   "cell_type": "markdown",
   "metadata": {},
   "source": [
    "For $n=2$ we recover logistic regression."
   ]
  },
  {
   "cell_type": "markdown",
   "metadata": {},
   "source": [
    "### Homework: Multiple Layers"
   ]
  },
  {
   "cell_type": "markdown",
   "metadata": {},
   "source": [
    "* Implement a perceptron with multiple layers.\n",
    "* Add logistic regression and softmax as non-linearities"
   ]
  }
 ],
 "metadata": {
  "kernelspec": {
   "display_name": "Python 3",
   "language": "python",
   "name": "python3"
  },
  "language_info": {
   "codemirror_mode": {
    "name": "ipython",
    "version": 3
   },
   "file_extension": ".py",
   "mimetype": "text/x-python",
   "name": "python",
   "nbconvert_exporter": "python",
   "pygments_lexer": "ipython3",
   "version": "3.6.5"
  }
 },
 "nbformat": 4,
 "nbformat_minor": 2
}

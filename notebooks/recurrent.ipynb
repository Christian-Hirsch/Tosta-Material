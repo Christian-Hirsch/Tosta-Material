{
 "cells": [
  {
   "cell_type": "markdown",
   "metadata": {},
   "source": [
    "# Recurrent Neural Networks for Text Generation"
   ]
  },
  {
   "cell_type": "markdown",
   "metadata": {},
   "source": [
    "With the [exception of RBMs](./rbm.ipynb), we have so far mainly witnessed the power of deep nets in the context of [supervised learning](./sgd.ipynb). In other words, given a certain amount of data, we used deep nets to predict the price of a house or the type of a flower. In the present notebook, we see that deep nets can also generate data -- such as Nietzsche literature! The analysis of language using AI is also known as **natural language processing (NLP)**."
   ]
  },
  {
   "cell_type": "markdown",
   "metadata": {},
   "source": [
    "However, before diving into the generation task, we need to talk about new architecture for dealing with sequence data: **recurrent neural networks (RNNs)**."
   ]
  },
  {
   "cell_type": "markdown",
   "metadata": {},
   "source": [
    "## Recurrent Neural Networks"
   ]
  },
  {
   "cell_type": "markdown",
   "metadata": {},
   "source": [
    "In order to represent text as data, we have several options such as encoding single characters or words, or even groups of words - called *n-grams*. However, none of these representations is nicely compatible with MLPs. "
   ]
  },
  {
   "cell_type": "markdown",
   "metadata": {},
   "source": [
    "Indeed, first MLPs expect a fixed-length input, whereas sentences can arguably be of very different length, as the following quotes illustrate:"
   ]
  },
  {
   "cell_type": "markdown",
   "metadata": {},
   "source": [
    "Barack Obama"
   ]
  },
  {
   "cell_type": "markdown",
   "metadata": {},
   "source": [
    "> Yes, we can"
   ]
  },
  {
   "cell_type": "markdown",
   "metadata": {},
   "source": [
    "Immanuel Kant"
   ]
  },
  {
   "cell_type": "markdown",
   "metadata": {},
   "source": [
    "> Ist\n",
    "dieses nun nicht geschehen, und kann es auch, wegen der Untauglichkeit\n",
    "des gemeinen Menschenverstandes zu so subtiler Spekulation, niemals\n",
    "erwartet werden; hat vielmehr, was das erstere betrifft, die jedem\n",
    "Menschen bemerkliche Anlage seiner Natur, durch das Zeitliche (als\n",
    "zu den Anlagen seiner ganzen Bestimmung unzulänglich) nie zufrieden\n",
    "gestellt werden zu können, die Hoffnung eines künftigen Lebens, in\n",
    "Ansehung des zweiten die bloße klare Darstellung der Pflichten im\n",
    "Gegensatze aller Ansprüche der Neigungen das Bewußtsein der Freiheit,\n",
    "und endlich, was das dritte anlangt, die herrliche Ordnung, Schönheit\n",
    "und Fürsorge, die allerwärts in der Natur hervorblickt, allein den\n",
    "Glauben an einen weisen und großen Welturheber, die sich aufs Publikum\n",
    "verbreitende Überzeugung, sofern sie auf Vernunftgründen beruht,\n",
    "ganz allein bewirken müssen: so bleibt ja nicht allein dieser Besitz\n",
    "ungestört, sondern er gewinnt vielmehr dadurch noch an Ansehen,\n",
    "daß die Schulen nunmehr belehrt werden, sich keine höhere und\n",
    "ausgebreitetere Einsicht in einem Punkte anzumaßen, der die allgemeine\n",
    "menschliche Angelegenheit betrifft, als diejenige ist, zu der die\n",
    "große (für uns achtungswürdigste) Menge auch eben so leicht gelangen\n",
    "kann, und sich also auf die Kultur dieser allgemein faßlichen und in\n",
    "moralischer Absicht hinreichenden Beweisgründe allein einzuschränken."
   ]
  },
  {
   "cell_type": "markdown",
   "metadata": {},
   "source": [
    "In addition, in text the appearance of one character or word typically has a strong influence on the following ones. This is also reflected poorly in MLPs."
   ]
  },
  {
   "cell_type": "markdown",
   "metadata": {},
   "source": [
    "Having these insufficies of MLPs in mind lead to the development of **recurrent neural networks (RNNs)** as illustrated below in a [wonderful blogpost by Christopher Olah](http://colah.github.io/posts/2015-08-Understanding-LSTMs/) \n"
   ]
  },
  {
   "cell_type": "markdown",
   "metadata": {},
   "source": [
    "<img src=\"images/rnn.png\" alt=\"Drawing\" style=\"width: 500px;\"/>\n",
    "http://colah.github.io/posts/2015-08-Understanding-LSTMs/"
   ]
  },
  {
   "cell_type": "markdown",
   "metadata": {},
   "source": [
    "In the figure above, the variables $x_i$ denote sequential input such as characters or words. The symbol $A$ represents a network combining the information of the current input together with a previous output in order to obtain more refined view. The value $h_i$ can be an output of any kind, such as for instance a prediction for the most probable following character."
   ]
  },
  {
   "cell_type": "markdown",
   "metadata": {},
   "source": [
    "The training mechanism of RNNs is known as *backpropagation through time* and some authors feel the urge to introduce the abbreviation *BPTT*. Essentially, BPTT means considering the RNN as a feed-forward neural network and applying the standard backpropagation, as we encountered it in a [previous notebook](./sgd.html)."
   ]
  },
  {
   "cell_type": "markdown",
   "metadata": {},
   "source": [
    "The only caveat is that each weight appears once in each layer and typically the gradient signals in different layers do not agree. Hence, what is done in BPTT is to update the weights by the sum of the gradients from each of the layers."
   ]
  },
  {
   "cell_type": "markdown",
   "metadata": {},
   "source": [
    "### Long Short-Term Memory Networks"
   ]
  },
  {
   "cell_type": "markdown",
   "metadata": {},
   "source": [
    "Although RNNs do manage to capture sequential dependencies, they are myopic in the sense that incorporating information of more than two or three steps in the past remains very difficult. However, when analyzing language data it is quite common to see dependencies spanning over the entire sentence. Let me just mention that Germans love to put verbs at the end of a sentence!"
   ]
  },
  {
   "cell_type": "markdown",
   "metadata": {},
   "source": [
    "The reason behind this limitation is known as **vanishing gradient problem**. That is, if information should be taken into account over long ranges in the sentence, then in the backpropagation mechanism the gradient signal needs to travel over many steps and therefore becomes very weak. To combat the vanishing gradient problem, in 1997 [Sepp Hochreiter and Jürgen Schmidhuber](https://www.ncbi.nlm.nih.gov/pubmed/9377276) developed the **long short-term memory (LSTM) networks**."
   ]
  },
  {
   "cell_type": "markdown",
   "metadata": {},
   "source": [
    "The principal idea behind LSTM networks is the introduction of gates allowing gradients to travel across many layers without diminishing their strength after every step. Here is another beautiful illustration from [Christopher Olah's blogpost](http://colah.github.io/posts/2015-08-Understanding-LSTMs/)"
   ]
  },
  {
   "cell_type": "markdown",
   "metadata": {},
   "source": [
    "<img src=\"images/lstm.png\" alt=\"Drawing\" style=\"width: 500px;\"/>\n",
    "http://colah.github.io/posts/2015-08-Understanding-LSTMs/"
   ]
  },
  {
   "cell_type": "markdown",
   "metadata": {},
   "source": [
    "In ``Keras`` LSTMs are available as a layer."
   ]
  },
  {
   "cell_type": "code",
   "execution_count": 11,
   "metadata": {},
   "outputs": [],
   "source": [
    "from keras import models,layers\n",
    "\n",
    "cell_size = 32\n",
    "\n",
    "model = models.Sequential([\n",
    "    layers.LSTM(cell_size, input_shape=(None, 64)),\n",
    "    layers.Dense(1)\n",
    "])"
   ]
  },
  {
   "cell_type": "markdown",
   "metadata": {},
   "source": [
    "In order to understand the concept of gates, let's take a closer look at the defining equations of the LSTM. The central architectural unit of an LSTM is a *cell* storing information stemming from possibly distant relevant parts of the input. At time step $t$ the cell state $C_t \\in \\mathbb{R}^h$ is a linear combination of the cell state $C_{t-1}$ in the previous step and an **update vector** $\\tilde{C}_{t-1}$:\n",
    "$$C_t = f_t \\cdot C_{t-1} +  i_t \\cdot \\tilde{C}_{t}$$"
   ]
  },
  {
   "cell_type": "markdown",
   "metadata": {},
   "source": [
    "Here, the coefficients $f_t, i_t \\in [0,1]^h$ and the update vector $\\tilde{C}_{t} \\in [-1,1]^h$ are determined as follows. The coefficient $f_{t}$ is called **forget gate** and determines how much of the information from the previous cell should be retained. It is computed via a single-layer MLP with sigmoid-activation from the current input $x_t$ and the output $h_{t-1}$ from the previous step:\n",
    "$$f_t = \\sigma(W_{{\\mathsf{f}}}[x_t; h_{t-1}] + b_{\\mathsf{f}})$$"
   ]
  },
  {
   "cell_type": "markdown",
   "metadata": {},
   "source": [
    "Similarly, the **input gate** $i_t$ determines how much of the update vector is incorporated in the $t$th step:\n",
    "$$i_t = \\sigma(W_{{\\mathsf{i}}}[x_t; h_{t-1}] + b_{\\mathsf{i}})$$"
   ]
  },
  {
   "cell_type": "markdown",
   "metadata": {},
   "source": [
    "The update vector $\\tilde{C}_{t}$ is also obtained as a single-layer MLP, but using a $\\tanh$-activation instead:\n",
    "$$\\tilde{C}_t = \\tanh(W_{{\\mathsf{C}}}[x_t; h_{t-1}] + b_{\\mathsf{C}})$$"
   ]
  },
  {
   "cell_type": "markdown",
   "metadata": {},
   "source": [
    "The final step in the LSTM cell is to relate the output $h_t$ to the current cell state $C_t$:\n",
    "$$h_t = o_t \\cdot \\tanh(C_t),$$\n",
    "with the **output gate** \n",
    "$$o_t = \\sigma(W_{{\\mathsf{o}}}[x_t; h_{t-1}] + b_{\\mathsf{o}}).$$"
   ]
  },
  {
   "cell_type": "markdown",
   "metadata": {},
   "source": [
    "### Temperature Data"
   ]
  },
  {
   "cell_type": "markdown",
   "metadata": {},
   "source": [
    "Before letting LSTMs speak Nietzsche, we explore how useful LSTM are when working with standard numerical time series. Here, we follow [François Chollets notebook](https://github.com/fchollet/deep-learning-with-python-notebooks/blob/master/6.3-advanced-usage-of-recurrent-neural-networks.ipynb) on the analysis of German weather data: https://s3.amazonaws.com/keras-datasets/jena_climate_2009_2016.csv.zip"
   ]
  },
  {
   "cell_type": "markdown",
   "metadata": {},
   "source": [
    "#### Data Preprocessing"
   ]
  },
  {
   "cell_type": "markdown",
   "metadata": {},
   "source": [
    "First, we load the data and set the time as index."
   ]
  },
  {
   "cell_type": "code",
   "execution_count": 4,
   "metadata": {},
   "outputs": [],
   "source": [
    "import pandas as pd\n",
    "import seaborn; seaborn.set()\n",
    "%matplotlib inline\n",
    "\n",
    "temp_df = pd.read_csv('./data/jena.csv')\n",
    "temp_df = temp_df.set_index('Date Time')"
   ]
  },
  {
   "cell_type": "markdown",
   "metadata": {},
   "source": [
    "We convert the index into datetime type.  We also reduce the time-granularity and only consider hourly data."
   ]
  },
  {
   "cell_type": "code",
   "execution_count": 5,
   "metadata": {},
   "outputs": [],
   "source": [
    "step = '1H'\n",
    "\n",
    "temp_df.index = pd.to_datetime(temp_df.index)\n",
    "temp_df = temp_df.resample('1H').first().fillna(0)"
   ]
  },
  {
   "cell_type": "markdown",
   "metadata": {},
   "source": [
    "We plot the temperature over the years."
   ]
  },
  {
   "cell_type": "code",
   "execution_count": 150,
   "metadata": {},
   "outputs": [
    {
     "data": {
      "text/plain": [
       "<matplotlib.axes._subplots.AxesSubplot at 0x7f77fecf2e80>"
      ]
     },
     "execution_count": 150,
     "metadata": {},
     "output_type": "execute_result"
    },
    {
     "data": {
      "image/png": "[encoded data removed]",
      "text/plain": [
       "<Figure size 432x288 with 1 Axes>"
      ]
     },
     "metadata": {},
     "output_type": "display_data"
    }
   ],
   "source": [
    "temp_df.iloc[::,1].plot()"
   ]
  },
  {
   "cell_type": "markdown",
   "metadata": {},
   "source": [
    "When using neural networks with numeric data, it is crucial to standardize the input first. "
   ]
  },
  {
   "cell_type": "code",
   "execution_count": 6,
   "metadata": {},
   "outputs": [],
   "source": [
    "from sklearn import preprocessing\n",
    "\n",
    "np_scaled =  preprocessing.StandardScaler().fit_transform(temp_df)\n",
    "norm_df = pd.DataFrame(np_scaled, columns = temp_df.columns, index = temp_df.index)"
   ]
  },
  {
   "cell_type": "markdown",
   "metadata": {},
   "source": [
    "####  Model Architecture"
   ]
  },
  {
   "cell_type": "markdown",
   "metadata": {},
   "source": [
    " As architecture, we choose an LSTM unit with cellsize 32 and optimize it with respect to mean average error"
   ]
  },
  {
   "cell_type": "code",
   "execution_count": 32,
   "metadata": {},
   "outputs": [],
   "source": [
    "from keras import optimizers\n",
    "\n",
    "cell_size = 32\n",
    "lr = 1e-3\n",
    "\n",
    "model = models.Sequential([\n",
    "    layers.LSTM(cell_size, input_shape=(None, norm_df.shape[-1])),\n",
    "    layers.Dense(1)\n",
    "])\n",
    "\n",
    "model.compile(optimizer=optimizers.Adam(lr=lr), loss='mae')"
   ]
  },
  {
   "cell_type": "markdown",
   "metadata": {},
   "source": [
    "#### Training"
   ]
  },
  {
   "cell_type": "markdown",
   "metadata": {},
   "source": [
    "In order to feed the network with training data, we need to break it up into chunks of a manageable size."
   ]
  },
  {
   "cell_type": "markdown",
   "metadata": {},
   "source": [
    "For that purpose, we use a generator adapted from [François Chollets notebook](https://github.com/fchollet/deep-learning-with-python-notebooks/blob/master/6.3-advanced-usage-of-recurrent-neural-networks.ipynb) in order to split the data into smaller pieces."
   ]
  },
  {
   "cell_type": "code",
   "execution_count": 33,
   "metadata": {},
   "outputs": [],
   "source": [
    "import numpy as np\n",
    "\n",
    "def generator(df, start, end, lookback=5, delay=1, batch_size=128):\n",
    "    while True:\n",
    "        full_range = pd.date_range(start, end, freq='1h', closed='left')\n",
    "        \n",
    "        #choose a random mini-batch\n",
    "        batch_dates = full_range[np.random.randint(0, len(full_range), batch_size)]\n",
    "        \n",
    "        #prediction based on past data\n",
    "        samples = [df.loc[pd.date_range(date - pd.DateOffset(days=lookback), date, freq='1h', closed='right')]\n",
    "            for date in batch_dates]\n",
    "        \n",
    "        #prediction into the future\n",
    "        targets = [df.iloc[:,1].loc[date + pd.DateOffset(days=delay)]\n",
    "            for date in batch_dates]\n",
    "                            \n",
    "        yield [np.stack(st) for st in [samples, targets]]"
   ]
  },
  {
   "cell_type": "markdown",
   "metadata": {},
   "source": [
    "Now, we define generators for training, validation and test data."
   ]
  },
  {
   "cell_type": "code",
   "execution_count": 34,
   "metadata": {},
   "outputs": [],
   "source": [
    "train_gen = generator(norm_df, '2010', '2015')\n",
    "val_gen = generator(norm_df, '2015', '2016')\n",
    "test_gen = generator(norm_df, '2016', '2017')"
   ]
  },
  {
   "cell_type": "markdown",
   "metadata": {},
   "source": [
    "Now, we perform the actual training. Already after a small number of epochs, the validation loss stabilizes."
   ]
  },
  {
   "cell_type": "code",
   "execution_count": 35,
   "metadata": {},
   "outputs": [
    {
     "name": "stdout",
     "output_type": "stream",
     "text": [
      "Epoch 1/1\n",
      "200/200 [==============================] - 35s 175ms/step - loss: 0.4923 - val_loss: 0.4818\n"
     ]
    },
    {
     "data": {
      "text/plain": [
       "<keras.callbacks.History at 0x7f09e475fcc0>"
      ]
     },
     "execution_count": 35,
     "metadata": {},
     "output_type": "execute_result"
    }
   ],
   "source": [
    "steps_per_epoch=200\n",
    "epochs = 1\n",
    "validation_steps=50\n",
    "\n",
    "model.fit_generator(train_gen,\n",
    "                    steps_per_epoch=steps_per_epoch,\n",
    "                    epochs=epochs,\n",
    "                    validation_data=val_gen,\n",
    "                    validation_steps=validation_steps)"
   ]
  },
  {
   "cell_type": "markdown",
   "metadata": {},
   "source": [
    "Before moving to the language domain, we note that the above architecture only provides the most basic approach towards applying RNNs for time series data. In particular, recurrent neural networks nowadays outperform traditional time-series techniques such as *ARIMA* if one resorts to a *seq2seq* architecture. [Artur Suilin](https://github.com/Arturus/kaggle-web-traffic/blob/master/how_it_works.md) gives a beautiful explanation of these ideas together with a variety of impressive illustrations."
   ]
  },
  {
   "cell_type": "markdown",
   "metadata": {},
   "source": [
    "## Text Generation"
   ]
  },
  {
   "cell_type": "markdown",
   "metadata": {},
   "source": [
    "After having gained experience on how LSTMs are used for numerical sequence data, we can now venture into the domain of NLP. Here, we follow in large parts [Chapter 8.1 of *Deep Learning with Python*](https://github.com/fchollet/deep-learning-with-python-notebooks/blob/master/8.1-text-generation-with-lstm.ipynb). So, how can we get RNNs to generate text for us?"
   ]
  },
  {
   "cell_type": "markdown",
   "metadata": {},
   "source": [
    "The basic idea is simple. We consider text as a sequence of suitably encoded characters and then train an RNN for predicting the most probable next character. We explore the strengths and weaknesses of this method by generating text from Nietzsche."
   ]
  },
  {
   "cell_type": "markdown",
   "metadata": {},
   "source": [
    "#### Data Preprocessing"
   ]
  },
  {
   "cell_type": "markdown",
   "metadata": {},
   "source": [
    "First, we load the text and one-hot encode the characters."
   ]
  },
  {
   "cell_type": "code",
   "execution_count": 1,
   "metadata": {},
   "outputs": [],
   "source": [
    "import tensorflow as tf\n",
    "import numpy as np\n",
    "from sklearn import preprocessing\n",
    "\n",
    "le = preprocessing.LabelEncoder()\n",
    "ohe = preprocessing.OneHotEncoder( sparse = False)\n",
    "\n",
    "\n",
    "text = open('./data/nietzsche.txt').read().lower()\n",
    "text_ohe = ohe.fit_transform(le.fit_transform(list(text)).reshape(-1,1))\n",
    "nchars = ohe.n_values_[0]"
   ]
  },
  {
   "cell_type": "markdown",
   "metadata": {},
   "source": [
    "Next, we split it into shorter sequences. For each of these sequences, we also keep the following character."
   ]
  },
  {
   "cell_type": "code",
   "execution_count": 2,
   "metadata": {},
   "outputs": [],
   "source": [
    "maxlen = 60\n",
    "step = 3\n",
    "train_size = len(range(0, len(text) - maxlen, step))\n",
    "\n",
    "\n",
    "sentences = np.zeros((train_size, maxlen, text_ohe.shape[1]))\n",
    "next_chars =  np.zeros((train_size,text_ohe.shape[1]))\n",
    "\n",
    "for i in range(0, len(text) - maxlen, step):\n",
    "    sentences[int(i/step),:,:] = text_ohe[i: i + maxlen,:]\n",
    "    next_chars[int(i/step),:] = text_ohe[i + maxlen,:]"
   ]
  },
  {
   "cell_type": "markdown",
   "metadata": {},
   "source": [
    "#### Model Architecture"
   ]
  },
  {
   "cell_type": "markdown",
   "metadata": {},
   "source": [
    "As architecture, we choose a single-layer LSTM optimized with respect to cross-entropy."
   ]
  },
  {
   "cell_type": "code",
   "execution_count": 4,
   "metadata": {},
   "outputs": [],
   "source": [
    "from tensorflow import keras\n",
    "from keras import layers, models, optimizers\n",
    "\n",
    "cell_size = 128\n",
    "lr = 1e-2\n",
    "\n",
    "model = models.Sequential([\n",
    "    layers.LSTM(cell_size,  input_shape=(maxlen, nchars)),\n",
    "    layers.Dense(ohe.n_values_[0], activation='softmax')\n",
    "])\n",
    "\n",
    "model.compile(loss='categorical_crossentropy', optimizer=Adam(lr=lr))"
   ]
  },
  {
   "cell_type": "markdown",
   "metadata": {},
   "source": [
    "Now, we train the model."
   ]
  },
  {
   "cell_type": "code",
   "execution_count": 44,
   "metadata": {},
   "outputs": [
    {
     "name": "stdout",
     "output_type": "stream",
     "text": [
      "Epoch 1/1\n",
      "200278/200278 [==============================] - 224s 1ms/step - loss: 1.5519\n"
     ]
    },
    {
     "data": {
      "text/plain": [
       "<keras.callbacks.History at 0x7f50481a5908>"
      ]
     },
     "execution_count": 44,
     "metadata": {},
     "output_type": "execute_result"
    }
   ],
   "source": [
    "batch_size = 128\n",
    "epochs = 1\n",
    "\n",
    "model.fit(sentences, next_chars, batch_size=batch_size, epochs=epochs)"
   ]
  },
  {
   "cell_type": "markdown",
   "metadata": {},
   "source": [
    "Note that the last layer of the model is a softmax layer over the characters. In order to use the model for text-generation, we need to convert these probabilities into actual characters. "
   ]
  },
  {
   "cell_type": "markdown",
   "metadata": {},
   "source": [
    "For this purpose, we take from [François Chollets notebook](https://github.com/fchollet/deep-learning-with-python-notebooks/blob/master/8.1-text-generation-with-lstm.ipynb) a sampling function of characters depending on the activations in the final layer. This sampling function depends on a temperature parameter interpolating between a uniform distribution and a delta distribution on the most likely character."
   ]
  },
  {
   "cell_type": "code",
   "execution_count": 36,
   "metadata": {},
   "outputs": [],
   "source": [
    "EPS = 1e-5\n",
    "\n",
    "def sample(preds, temperature=1.0):\n",
    "    preds = np.asarray(preds).astype('float64')\n",
    "    logits = np.log(preds + EPS) / temperature\n",
    " \n",
    "    softmax = np.exp(logits) / np.sum(np.exp(logits))\n",
    "    sample = np.random.multinomial(1, softmax) \n",
    "    return np.argmax(sample)"
   ]
  },
  {
   "cell_type": "code",
   "execution_count": 82,
   "metadata": {},
   "outputs": [
    {
     "name": "stdout",
     "output_type": "stream",
     "text": [
      " for what must these\n",
      "clumsy attempts of feminine scientifica\n",
      "ristic and\n",
      "the become the believe the deption of the solest and real so far of believe all often anying altering to course of the securing more soul of here and surplistion as and for the species also confeduents of man enextence, and the brensting of our every delight and not stranger and whish man his sublight, it feel of a primiled to man appaint of man class\" of submly and by greatest soul whi"
     ]
    }
   ],
   "source": [
    "from numpy import random\n",
    "import sys \n",
    "\n",
    "seed=42\n",
    "temperature = .6\n",
    "gen_text_len = 400\n",
    "#random.seed(seed)\n",
    "\n",
    "start_index = random.randint(0, len(text) - maxlen - 1)\n",
    "generated_text = text[start_index: start_index + maxlen]\n",
    "print(generated_text)\n",
    "\n",
    "generated_text = ohe.transform(le.transform(list(generated_text)).reshape(-1,1))\n",
    "generated_text = np.expand_dims(generated_text, 0)\n",
    "\n",
    "for i in range(gen_text_len):\n",
    "\n",
    "        preds = model.predict(generated_text, verbose=0)[0]\n",
    "        next_index = sample(preds, temperature)\n",
    "\n",
    "        #print char\n",
    "        sys.stdout.write(le.classes_[next_index])\n",
    "        sys.stdout.flush()\n",
    "\n",
    "        #update text\n",
    "        new_text = np.concatenate([generated_text[:, 1:, :], \n",
    "                                   np.expand_dims(ohe.transform(next_index),0)], \n",
    "                                  axis=1)\n",
    "        generated_text = new_text"
   ]
  },
  {
   "cell_type": "markdown",
   "metadata": {},
   "source": [
    "We see that RNNs can make steps into imitating Nietzsche! However, a closer look reveals that this approach produces examples that stick rather closely to the original text. Developing different generative models not suffering so strongly  from this problem is an active area of research in AI."
   ]
  },
  {
   "cell_type": "markdown",
   "metadata": {},
   "source": [
    "After more training, the sentences would become even better. Here are examples from [Andrej Karpathy's blogpost](http://karpathy.github.io/2015/05/21/rnn-effectiveness/) trained on Shakespeare."
   ]
  },
  {
   "cell_type": "markdown",
   "metadata": {},
   "source": [
    ">  VIOLA:\n",
    "Why, Salisbury must find his flesh and thought\n",
    "That which I am not aps, not a man and in fire,\n",
    "To show the reining of the raven and the wars\n",
    "To grace my hand reproach within, and not a fair are hand,\n",
    "That Caesar and my goodly father's world;\n",
    "When I was heaven of presence and our fleets,\n",
    "We spare with hours, but cut thy council I am great,\n",
    "Murdered and by thy master's ready there\n",
    "My power to give thee but so much as hell:\n",
    "Some service in the noble bondman here,\n",
    "Would show him to her wine.\n",
    "\n",
    ">KING LEAR:\n",
    "O, if you were a feeble sight, the courtesy of your law,\n",
    "Your sight and several breath, will wear the gods\n",
    "With his heads, and my hands are wonder'd at the deeds,\n",
    "So drop upon your lordship's head, and your opinion\n",
    "Shall be against your honour."
   ]
  },
  {
   "cell_type": "markdown",
   "metadata": {},
   "source": [
    "## Homework"
   ]
  },
  {
   "cell_type": "markdown",
   "metadata": {},
   "source": [
    "Implement the prediction based on the seq2seq model and improve the predictions above!"
   ]
  },
  {
   "cell_type": "markdown",
   "metadata": {},
   "source": [
    "Create a LSTM model based on word encoding."
   ]
  },
  {
   "cell_type": "code",
   "execution_count": null,
   "metadata": {},
   "outputs": [],
   "source": []
  }
 ],
 "metadata": {
  "kernelspec": {
   "display_name": "Python 3",
   "language": "python",
   "name": "python3"
  },
  "language_info": {
   "codemirror_mode": {
    "name": "ipython",
    "version": 3
   },
   "file_extension": ".py",
   "mimetype": "text/x-python",
   "name": "python",
   "nbconvert_exporter": "python",
   "pygments_lexer": "ipython3",
   "version": "3.6.5"
  }
 },
 "nbformat": 4,
 "nbformat_minor": 2
}

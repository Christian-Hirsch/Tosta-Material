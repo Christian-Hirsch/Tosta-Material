{
 "cells": [
  {
   "cell_type": "markdown",
   "metadata": {},
   "source": [
    "# Recurrent Neural Networks"
   ]
  },
  {
   "cell_type": "markdown",
   "metadata": {},
   "source": [
    "In today's lecture, we cover **Recurrent Neural Networks (RNNs)** a specific network architecture designed for processing  sequence data. We specifically deal with two prominent use cases, namely time series and language data. In addition, RNNs play a pivotal role for reinforcement learning as well as for the analysis and geenration of music and videos."
   ]
  },
  {
   "cell_type": "markdown",
   "metadata": {},
   "source": [
    "In order to represent text as data, we have several options such as encoding single characters or words, or even groups of words - called *n-grams*. However, none of these representations is nicely compatible with MLPs. "
   ]
  },
  {
   "cell_type": "markdown",
   "metadata": {},
   "source": [
    "Indeed, first MLPs expect a fixed-length input, whereas sentences can arguably be of very different length, as the following quotes illustrate:"
   ]
  },
  {
   "cell_type": "markdown",
   "metadata": {},
   "source": [
    "Barack Obama"
   ]
  },
  {
   "cell_type": "markdown",
   "metadata": {},
   "source": [
    "> Yes, we can"
   ]
  },
  {
   "cell_type": "markdown",
   "metadata": {},
   "source": [
    "Immanuel Kant"
   ]
  },
  {
   "cell_type": "markdown",
   "metadata": {},
   "source": [
    "> Ist\n",
    "dieses nun nicht geschehen, und kann es auch, wegen der Untauglichkeit\n",
    "des gemeinen Menschenverstandes zu so subtiler Spekulation, niemals\n",
    "erwartet werden; hat vielmehr, was das erstere betrifft, die jedem\n",
    "Menschen bemerkliche Anlage seiner Natur, durch das Zeitliche (als\n",
    "zu den Anlagen seiner ganzen Bestimmung unzulänglich) nie zufrieden\n",
    "gestellt werden zu können, die Hoffnung eines künftigen Lebens, in\n",
    "Ansehung des zweiten die bloße klare Darstellung der Pflichten im\n",
    "Gegensatze aller Ansprüche der Neigungen das Bewußtsein der Freiheit,\n",
    "und endlich, was das dritte anlangt, die herrliche Ordnung, Schönheit\n",
    "und Fürsorge, die allerwärts in der Natur hervorblickt, allein den\n",
    "Glauben an einen weisen und großen Welturheber, die sich aufs Publikum\n",
    "verbreitende Überzeugung, sofern sie auf Vernunftgründen beruht,\n",
    "ganz allein bewirken müssen: so bleibt ja nicht allein dieser Besitz\n",
    "ungestört, sondern er gewinnt vielmehr dadurch noch an Ansehen,\n",
    "daß die Schulen nunmehr belehrt werden, sich keine höhere und\n",
    "ausgebreitetere Einsicht in einem Punkte anzumaßen, der die allgemeine\n",
    "menschliche Angelegenheit betrifft, als diejenige ist, zu der die\n",
    "große (für uns achtungswürdigste) Menge auch eben so leicht gelangen\n",
    "kann, und sich also auf die Kultur dieser allgemein faßlichen und in\n",
    "moralischer Absicht hinreichenden Beweisgründe allein einzuschränken."
   ]
  },
  {
   "cell_type": "markdown",
   "metadata": {},
   "source": [
    "In addition, in text the appearance of one character or word typically has a strong influence on the following ones. This is also reflected poorly in MLPs."
   ]
  },
  {
   "cell_type": "markdown",
   "metadata": {},
   "source": [
    "Having these insufficies of MLPs in mind lead to the development of **recurrent neural networks (RNNs)** as illustrated below in a [wonderful blogpost by Christopher Olah](http://colah.github.io/posts/2015-08-Understanding-LSTMs/) \n"
   ]
  },
  {
   "cell_type": "markdown",
   "metadata": {},
   "source": [
    "<img src=\"images/rnn.png\"  style=\"width: 500px;\"/>\n",
    "http://colah.github.io/posts/2015-08-Understanding-LSTMs/"
   ]
  },
  {
   "cell_type": "markdown",
   "metadata": {},
   "source": [
    "In the figure above, the variables $x_i$ denote sequential input such as characters or words. The symbol $A$ represents a network combining the information of the current input together with a previous output in order to obtain more refined view. The value $h_i$ can be an output of any kind, such as for instance a prediction for the most probable following character."
   ]
  },
  {
   "cell_type": "markdown",
   "metadata": {},
   "source": [
    "The training mechanism of RNNs relies on **backpropagation through time (BPTT)**. Essentially, BPTT means considering the RNN as a feed-forward neural network and applying the standard backpropagation, as encountered in a [previous lecture](./backprop.html)."
   ]
  },
  {
   "cell_type": "markdown",
   "metadata": {},
   "source": [
    "The only caveat is that each weight appears once in each layer and typically the gradient signals in different layers do not agree. Hence, what is done in BPTT is to update the weights by the sum of the gradients from each of the layers."
   ]
  },
  {
   "cell_type": "markdown",
   "metadata": {},
   "source": [
    "### Long Short-Term Memory Networks"
   ]
  },
  {
   "cell_type": "markdown",
   "metadata": {},
   "source": [
    "Although RNNs manage to capture sequential dependencies, they are myopic in the sense that incorporating information of more than two or three steps in the past remains very difficult. However, when analyzing language data it is quite common to see dependencies spanning over the entire sentence. Let me just mention that Germans love to put verbs at the end of a sentence!"
   ]
  },
  {
   "cell_type": "markdown",
   "metadata": {},
   "source": [
    "At the heart of this limitation lies the  **vanishing gradient problem**. That is, if information should be taken into account over long ranges in the sentence, then in the backpropagation mechanism the gradient signal needs to travel over many steps and therefore becomes very weak. To combat the vanishing gradient problem, in 1997 [Sepp Hochreiter and Jürgen Schmidhuber](https://www.ncbi.nlm.nih.gov/pubmed/9377276) developed the **long short-term memory (LSTM) networks**."
   ]
  },
  {
   "cell_type": "markdown",
   "metadata": {},
   "source": [
    "The principal idea behind LSTM networks is the introduction of gates allowing gradients to travel across many layers without diminishing their strength after every step. Here is another beautiful illustration from [Christopher Olah's blogpost](http://colah.github.io/posts/2015-08-Understanding-LSTMs/)"
   ]
  },
  {
   "cell_type": "markdown",
   "metadata": {},
   "source": [
    "<img src=\"images/lstm.png\" style=\"width: 500px;\"/>\n",
    "http://colah.github.io/posts/2015-08-Understanding-LSTMs/"
   ]
  },
  {
   "cell_type": "markdown",
   "metadata": {},
   "source": [
    "In ``Keras`` LSTMs are available as a layer."
   ]
  },
  {
   "cell_type": "code",
   "execution_count": 1,
   "metadata": {},
   "outputs": [
    {
     "data": {
      "text/plain": [
       "Model\n",
       "________________________________________________________________________________\n",
       "Layer (type)                        Output Shape                    Param #     \n",
       "================================================================================\n",
       "lstm_1 (LSTM)                       (None, 32)                      7552        \n",
       "________________________________________________________________________________\n",
       "dense_1 (Dense)                     (None, 1)                       33          \n",
       "================================================================================\n",
       "Total params: 7,585\n",
       "Trainable params: 7,585\n",
       "Non-trainable params: 0\n",
       "________________________________________________________________________________\n",
       "\n"
      ]
     },
     "metadata": {},
     "output_type": "display_data"
    }
   ],
   "source": [
    "library(keras)\n",
    "\n",
    "cell_size <- 32\n",
    "input_dim <- 26\n",
    "\n",
    "model <- keras_model_sequential()\n",
    "model %>%\n",
    " layer_lstm(cell_size, input_shape = list(NULL, input_dim)) %>%\n",
    " layer_dense(1)\n",
    "model"
   ]
  },
  {
   "cell_type": "markdown",
   "metadata": {},
   "source": [
    "In order to understand the concept of gates, we take a closer look at the defining equations of the LSTM. The central architectural unit of an LSTM is a *cell* storing information stemming from possibly distant relevant parts of the input. At time step $t$ the cell state $C_t \\in \\mathbb{R}^h$ is a linear combination of the cell state $C_{t-1}$ in the previous step and an **update vector** $\\tilde{C}_{t-1}$:\n",
    "$$C_t = f_t \\cdot C_{t-1} +  i_t \\cdot \\tilde{C}_{t}$$"
   ]
  },
  {
   "cell_type": "markdown",
   "metadata": {},
   "source": [
    "Here, the coefficients $f_t, i_t \\in [0,1]^h$ and the update vector $\\tilde{C}_{t} \\in [-1,1]^h$ are determined as follows. The coefficient $f_{t}$ is called **forget gate** and determines how much of the information from the previous cell should be retained. It is computed via a single-layer MLP with sigmoid-activation from the current input $x_t$ and the output $h_{t-1}$ from the previous step:\n",
    "$$f_t = \\sigma(W_{{\\mathsf{f}}}[x_t; h_{t-1}] + b_{\\mathsf{f}})$$"
   ]
  },
  {
   "cell_type": "markdown",
   "metadata": {},
   "source": [
    "Similarly, the **input gate** $i_t$ determines how much of the update vector is incorporated in the $t$th step:\n",
    "$$i_t = \\sigma(W_{{\\mathsf{i}}}[x_t; h_{t-1}] + b_{\\mathsf{i}})$$"
   ]
  },
  {
   "cell_type": "markdown",
   "metadata": {},
   "source": [
    "The update vector $\\tilde{C}_{t}$ is also obtained as a single-layer MLP, but using a $\\tanh$-activation instead:\n",
    "$$\\tilde{C}_t = \\tanh(W_{{\\mathsf{C}}}[x_t; h_{t-1}] + b_{\\mathsf{C}})$$"
   ]
  },
  {
   "cell_type": "markdown",
   "metadata": {},
   "source": [
    "The final step in the LSTM cell is to relate the output $h_t$ to the current cell state $C_t$:\n",
    "$$h_t = o_t \\cdot \\tanh(C_t),$$\n",
    "with the **output gate** \n",
    "$$o_t = \\sigma(W_{{\\mathsf{o}}}[x_t; h_{t-1}] + b_{\\mathsf{o}}).$$"
   ]
  },
  {
   "cell_type": "markdown",
   "metadata": {},
   "source": [
    "## Text Generation"
   ]
  },
  {
   "cell_type": "markdown",
   "metadata": {},
   "source": [
    "Before applying LSTMs to time series data, we venture into the domain of NLP. Here, we follow in large parts [Chapter 8.1 of *Deep Learning with Python*](https://github.com/jjallaire/deep-learning-with-r-notebooks/blob/master/notebooks/8.1-text-generation-with-lstm.Rmd). So, how can we get RNNs to generate text for us?"
   ]
  },
  {
   "cell_type": "markdown",
   "metadata": {},
   "source": [
    "The basic idea is simple. We consider text as a sequence of suitably encoded characters and then train an RNN for predicting the most probable next character. We explore the strengths and weaknesses of this method by generating text from Nietzsche."
   ]
  },
  {
   "cell_type": "markdown",
   "metadata": {},
   "source": [
    "#### Data Preprocessing"
   ]
  },
  {
   "cell_type": "markdown",
   "metadata": {},
   "source": [
    "First, we load the text and one-hot encode the characters."
   ]
  },
  {
   "cell_type": "code",
   "execution_count": 1,
   "metadata": {},
   "outputs": [],
   "source": [
    "library(stringr)\n",
    "library(keras)\n",
    "library(abind)\n",
    "\n",
    "path <- \"./data/nietzsche.txt\"\n",
    "text <- tolower(readChar(path, file.info(path)$size))"
   ]
  },
  {
   "cell_type": "markdown",
   "metadata": {},
   "source": [
    "Next, we split it into shorter sequences of length ``maxlen = 60``. To enhance diversity, we perform sub-sampling and only take every third possible sequence. For each of these sequences, we also keep the following character."
   ]
  },
  {
   "cell_type": "code",
   "execution_count": 3,
   "metadata": {},
   "outputs": [],
   "source": [
    "maxlen <- 60\n",
    "step <- 3\n",
    "\n",
    "txt_idxs <- seq(1, nchar(text) - maxlen, by = step)\n",
    "\n",
    "sentences <- str_sub(text, txt_idxs, txt_idxs + maxlen - 1)\n",
    "next_chars <- str_sub(text, txt_idxs + maxlen, txt_idxs + maxlen)\n",
    "nsents <- length(sentences)"
   ]
  },
  {
   "cell_type": "markdown",
   "metadata": {},
   "source": [
    "Next, we collect all occurring characters in an array and construct a dictionary mapping each character to the position in this array. "
   ]
  },
  {
   "cell_type": "code",
   "execution_count": 4,
   "metadata": {},
   "outputs": [],
   "source": [
    "chars <- unique(sort(strsplit(text, \"\")[[1]]))\n",
    "nchars <- length(chars)\n",
    "\n",
    "char_idxs <- 1:nchars\n",
    "names(char_idxs) <- chars"
   ]
  },
  {
   "cell_type": "markdown",
   "metadata": {},
   "source": [
    "We use an auxiliary function to one-hot encode a text"
   ]
  },
  {
   "cell_type": "code",
   "execution_count": 7,
   "metadata": {},
   "outputs": [],
   "source": [
    "ohe_char <- function(char){\n",
    "    #' Create one-hot embedding of a string\n",
    "    #' \n",
    "    #' Replace each character by corresponding unit vector\n",
    "    #' \n",
    "    #' @param char character to embed\n",
    "    \n",
    "    char_emb <- array(0L, dim = nchars)\n",
    "    char_emb[char_idxs[[char]]] <- 1\n",
    "    char_emb\n",
    "}\n",
    "\n",
    "ohe_string <- function(string){\n",
    "    #' Create one-hot embedding of a string\n",
    "    #' \n",
    "    #' Replace each character by corresponding unit vector\n",
    "    #' \n",
    "    #' @param string string to embed\n",
    "    \n",
    "  string_emb <- array(0L, dim = c(maxlen, nchars))\n",
    "  char_seq <- strsplit(string, \"\")[[1]]\n",
    "  for (t in 1:maxlen) \n",
    "      string_emb[t, ] <- ohe_char(char_seq[[t]])\n",
    "    string_emb\n",
    "}"
   ]
  },
  {
   "cell_type": "markdown",
   "metadata": {},
   "source": [
    "In the final step, we perform a one-hot embedding of the data. In view of the desired input format for LSTMs, the sequence of sentences is stored in an array of shape ``(nsents, maxlen, nchars))``."
   ]
  },
  {
   "cell_type": "code",
   "execution_count": 6,
   "metadata": {},
   "outputs": [],
   "source": [
    "x <- array(0L, dim = c(nsents, maxlen, nchars))\n",
    "y <- array(0L, dim = c(nsents, nchars))\n",
    "\n",
    "for (i in 1:nsents) {\n",
    "  x[i,,] <- ohe_string(sentences[[i]])\n",
    "  y[i,] <- ohe_char(next_chars[[i]])\n",
    "}"
   ]
  },
  {
   "cell_type": "markdown",
   "metadata": {},
   "source": [
    "#### Model Architecture"
   ]
  },
  {
   "cell_type": "markdown",
   "metadata": {},
   "source": [
    "As architecture, we choose a single-layer LSTM ."
   ]
  },
  {
   "cell_type": "code",
   "execution_count": 9,
   "metadata": {},
   "outputs": [],
   "source": [
    "cell_size <- 128\n",
    "\n",
    "model <- keras_model_sequential()\n",
    "model %>%\n",
    " layer_lstm(cell_size, input_shape = list(maxlen, nchars)) %>%\n",
    " layer_dense(nchars, activation = \"softmax\")"
   ]
  },
  {
   "cell_type": "markdown",
   "metadata": {},
   "source": [
    "We optimize it with respect to crossentropy."
   ]
  },
  {
   "cell_type": "code",
   "execution_count": 12,
   "metadata": {},
   "outputs": [],
   "source": [
    "lr <- 1e-2\n",
    "\n",
    "model %>% compile(\n",
    "  loss = \"categorical_crossentropy\", \n",
    "  optimizer = optimizer_rmsprop(lr)\n",
    ")   "
   ]
  },
  {
   "cell_type": "markdown",
   "metadata": {},
   "source": [
    "Now, we train the model."
   ]
  },
  {
   "cell_type": "code",
   "execution_count": 15,
   "metadata": {},
   "outputs": [],
   "source": [
    "model %>%\n",
    " fit(x,y , epochs = 5, batch_size = 2048)"
   ]
  },
  {
   "cell_type": "markdown",
   "metadata": {},
   "source": [
    "Note that the last layer of the model is a softmax layer over the characters. In order to use the model for text-generation, we need to convert these probabilities into actual characters. "
   ]
  },
  {
   "cell_type": "markdown",
   "metadata": {},
   "source": [
    "For this purpose, we take from [François Chollets notebook](https://github.com/jjallaire/deep-learning-with-r-notebooks/blob/master/notebooks/8.1-text-generation-with-lstm.Rmd) a sampling function of characters depending on the activations in the final layer. This sampling function depends on a temperature parameter interpolating between a uniform distribution and a Dirac distribution on the most likely character."
   ]
  },
  {
   "cell_type": "code",
   "execution_count": 16,
   "metadata": {},
   "outputs": [],
   "source": [
    "sample_next_char <- function(preds, temperature = 1.0) {\n",
    "  preds <- as.numeric(preds)\n",
    "  preds <- log(preds) / temperature\n",
    "  exp_preds <- exp(preds)\n",
    "  preds <- exp_preds / sum(exp_preds)\n",
    "  which.max(t(rmultinom(1, 1, preds)))\n",
    "}"
   ]
  },
  {
   "cell_type": "markdown",
   "metadata": {},
   "source": [
    "Now, we can see how the sampling works for the fitted model. We start at an random initial starting segment."
   ]
  },
  {
   "cell_type": "code",
   "execution_count": 17,
   "metadata": {},
   "outputs": [
    {
     "data": {
      "text/html": [
       "'suffer? and our sympathy--do ye not understand\\nwhat our reve'"
      ],
      "text/latex": [
       "'suffer? and our sympathy--do ye not understand\\textbackslash{}nwhat our reve'"
      ],
      "text/markdown": [
       "'suffer? and our sympathy--do ye not understand\\nwhat our reve'"
      ],
      "text/plain": [
       "[1] \"suffer? and our sympathy--do ye not understand\\nwhat our reve\""
      ]
     },
     "metadata": {},
     "output_type": "display_data"
    }
   ],
   "source": [
    "start_index <- sample(1:nchar(text), 1)  \n",
    "seed_text <- str_sub(text, start_index, start_index + maxlen - 1)\n",
    "seed_text"
   ]
  },
  {
   "cell_type": "markdown",
   "metadata": {},
   "source": [
    "Now, we take the previously fitted model and apply the sampling scheme."
   ]
  },
  {
   "cell_type": "code",
   "execution_count": 26,
   "metadata": {},
   "outputs": [
    {
     "name": "stdout",
     "output_type": "stream",
     "text": [
      "lly and athor in the lat ald dent and the gret in al alll the salt the tint in the the gals erped be that aly in the that the  of the dor are the d malt of and \"the malle of the gint and it and aly the gy the gand of the galt whet and the lond of the gins its ard the sof of the grtres in mand a der thet and in al aly and the grere the gon aly the gand ba the golt in the nof of the mant the gon of "
     ]
    }
   ],
   "source": [
    "generated_text <- seed_text\n",
    "temperature <- .5\n",
    "nchargen <- 400\n",
    "\n",
    "for (i in 1:nchargen) {\n",
    "\n",
    " #one-hot encode the generated text\n",
    "  sampled <- ohe_string(generated_text)\n",
    "\n",
    "  #compute probabilities of next char and sample\n",
    "  preds <- model %>% \n",
    "    predict(sampled, verbose = 0)\n",
    "  next_index <- sample_next_char(preds[1,], temperature)\n",
    "  next_char <- chars[[next_index]]\n",
    "\n",
    "  #update the generated text by adding a final character \n",
    "  generated_text <- paste0(generated_text, next_char)\n",
    "  generated_text <- substring(generated_text, 2)\n",
    "\n",
    "  cat(next_char)\n",
    "}"
   ]
  },
  {
   "cell_type": "markdown",
   "metadata": {},
   "source": [
    "We see that RNNs can make steps into imitating Nietzsche! However, a closer look reveals that this approach produces examples sticking rather closely to the original text. Developing different generative models not suffering so strongly  from this problem is a vibrant area of research in AI."
   ]
  },
  {
   "cell_type": "markdown",
   "metadata": {},
   "source": [
    "After more training, the sentences would become even better. Here are examples from [Andrej Karpathy's blogpost](http://karpathy.github.io/2015/05/21/rnn-effectiveness/) trained on Shakespeare."
   ]
  },
  {
   "cell_type": "markdown",
   "metadata": {},
   "source": [
    ">  VIOLA:\n",
    "Why, Salisbury must find his flesh and thought\n",
    "That which I am not aps, not a man and in fire,\n",
    "To show the reining of the raven and the wars\n",
    "To grace my hand reproach within, and not a fair are hand,\n",
    "That Caesar and my goodly father's world;\n",
    "When I was heaven of presence and our fleets,\n",
    "We spare with hours, but cut thy council I am great,\n",
    "Murdered and by thy master's ready there\n",
    "My power to give thee but so much as hell:\n",
    "Some service in the noble bondman here,\n",
    "Would show him to her wine.\n",
    "\n",
    ">KING LEAR:\n",
    "O, if you were a feeble sight, the courtesy of your law,\n",
    "Your sight and several breath, will wear the gods\n",
    "With his heads, and my hands are wonder'd at the deeds,\n",
    "So drop upon your lordship's head, and your opinion\n",
    "Shall be against your honour."
   ]
  },
  {
   "cell_type": "markdown",
   "metadata": {},
   "source": [
    "#### 9.30"
   ]
  },
  {
   "cell_type": "markdown",
   "metadata": {},
   "source": [
    "#### 10.05"
   ]
  },
  {
   "cell_type": "markdown",
   "metadata": {},
   "source": [
    "### Temperature Data"
   ]
  },
  {
   "cell_type": "markdown",
   "metadata": {},
   "source": [
    "After letting LSTMs speak Nietzsche, we explore how useful LSTM are when working with standard numerical time series. Here, we follow [François Chollets notebook](https://github.com/jjallaire/deep-learning-with-r-notebooks/blob/master/notebooks/6.3-advanced-usage-of-recurrent-neural-networks.Rmd) on the analysis of German weather data: https://s3.amazonaws.com/keras-datasets/jena_climate_2009_2016.csv.zip"
   ]
  },
  {
   "cell_type": "code",
   "execution_count": 2,
   "metadata": {},
   "outputs": [
    {
     "name": "stderr",
     "output_type": "stream",
     "text": [
      "Parsed with column specification:\n",
      "cols(\n",
      "  `Date Time` = col_character(),\n",
      "  `p (mbar)` = col_double(),\n",
      "  `T (degC)` = col_double(),\n",
      "  `Tpot (K)` = col_double(),\n",
      "  `Tdew (degC)` = col_double(),\n",
      "  `rh (%)` = col_double(),\n",
      "  `VPmax (mbar)` = col_double(),\n",
      "  `VPact (mbar)` = col_double(),\n",
      "  `VPdef (mbar)` = col_double(),\n",
      "  `sh (g/kg)` = col_double(),\n",
      "  `H2OC (mmol/mol)` = col_double(),\n",
      "  `rho (g/m**3)` = col_double(),\n",
      "  `wv (m/s)` = col_double(),\n",
      "  `max. wv (m/s)` = col_double(),\n",
      "  `wd (deg)` = col_double()\n",
      ")\n"
     ]
    }
   ],
   "source": [
    "library(readr)\n",
    "library(tibble)\n",
    "\n",
    "data <- read_csv('./data/jena_climate_2009_2016.csv')"
   ]
  },
  {
   "cell_type": "markdown",
   "metadata": {},
   "source": [
    "Next, we visualize the temperature time series."
   ]
  },
  {
   "cell_type": "code",
   "execution_count": 3,
   "metadata": {
    "scrolled": false
   },
   "outputs": [
    {
     "data": {},
     "metadata": {},
     "output_type": "display_data"
    },
    {
     "data": {
      "image/png": "[encoded data removed]",
      "text/plain": [
       "plot without title"
      ]
     },
     "metadata": {},
     "output_type": "display_data"
    }
   ],
   "source": [
    "library(ggplot2)\n",
    "ggplot(data, \n",
    "       aes(x = as.Date(data[,1][[1]], \n",
    "                       format = c(\"%d.%m.%Y %H:%M:%OS\")),\n",
    "            y = `T (degC)`)\n",
    "      ) + \n",
    "    geom_line() + \n",
    "    xlab('Time') + \n",
    "    ggtitle('Temperature data')"
   ]
  },
  {
   "cell_type": "markdown",
   "metadata": {},
   "source": [
    "When analyzing numeric data via deep learning, it is crucial to standardize the input. We restrict on the first 300,000 data points as training sample and remove the time stamp."
   ]
  },
  {
   "cell_type": "code",
   "execution_count": 4,
   "metadata": {},
   "outputs": [],
   "source": [
    "trn_size <- 3e5\n",
    "data <- data[, -1]\n",
    "trn_data <- data.matrix(data[1:trn_size,])\n",
    "\n",
    "mean <- apply(trn_data, 2, mean)\n",
    "std <- apply(trn_data, 2, sd)\n",
    "data <- scale(data, center = mean, scale = std)"
   ]
  },
  {
   "cell_type": "markdown",
   "metadata": {},
   "source": [
    "####  Network Architecture"
   ]
  },
  {
   "cell_type": "markdown",
   "metadata": {},
   "source": [
    " As network architecture, we choose an LSTM unit with cellsize 32 and optimize it with respect to mse."
   ]
  },
  {
   "cell_type": "code",
   "execution_count": 5,
   "metadata": {},
   "outputs": [],
   "source": [
    "library(keras)\n",
    "\n",
    "cell_size = 32\n",
    "\n",
    "model <- keras_model_sequential()\n",
    "model %>%\n",
    " layer_lstm(cell_size, input_shape = list(NULL, dim(data)[2])) %>%\n",
    " layer_dense(1)\n",
    "\n",
    "model %>% compile(\n",
    "  optimizer = optimizer_rmsprop(),\n",
    "  loss = \"mae\"\n",
    ")"
   ]
  },
  {
   "cell_type": "markdown",
   "metadata": {},
   "source": [
    "#### Training"
   ]
  },
  {
   "cell_type": "markdown",
   "metadata": {},
   "source": [
    "In order to feed the network with training data, we need to break it up into chunks of a manageable size."
   ]
  },
  {
   "cell_type": "markdown",
   "metadata": {},
   "source": [
    "For that purpose, we adapt [François Chollets notebook](https://github.com/fchollet/deep-learning-with-python-notebooks/blob/master/6.3-advanced-usage-of-recurrent-neural-networks.ipynb) and use a generator adapted to chop the data into smaller pieces."
   ]
  },
  {
   "cell_type": "code",
   "execution_count": 13,
   "metadata": {},
   "outputs": [],
   "source": [
    "generator <- function(data, \n",
    "                      lookback = 1440, #size of history considered for prediction \n",
    "                      delay = 1,  #prediction interval into the future\n",
    "                      batch_size = 128, #batch size for sgd\n",
    "                      step = 6) #subsampling \n",
    "{ \n",
    "  function() {\n",
    "    rows <- sample(c((1 + lookback):trn_size), batch_size)\n",
    "    \n",
    "    samples <- array(0, dim = c(batch_size, \n",
    "                                lookback / step,\n",
    "                                dim(data)[2]))\n",
    "    targets <- array(0, dim = c(batch_size))\n",
    "                     \n",
    "    for(i in 1:batch_size) {\n",
    "      #get data from history\n",
    "      idxs <- seq(rows[[i]] - lookback, rows[[i]] - 1, \n",
    "                     by = step)\n",
    "      samples[i,,] <- data[idxs,]\n",
    "        \n",
    "      #get data from future, only extract temperature\n",
    "      targets[[i]] <- data[rows[[i]] + delay, 2]\n",
    "    }            \n",
    "    list(samples, targets)\n",
    "  }\n",
    "}"
   ]
  },
  {
   "cell_type": "markdown",
   "metadata": {},
   "source": [
    "Now, we define generators for training data."
   ]
  },
  {
   "cell_type": "code",
   "execution_count": 14,
   "metadata": {},
   "outputs": [],
   "source": [
    "lookback <- 1440\n",
    "step <- 6\n",
    "delay <- 144\n",
    "batch_size <- 128\n",
    "\n",
    "train_gen <- generator(\n",
    "  data,\n",
    "  lookback = lookback,\n",
    "  delay = delay,\n",
    "  step = step, \n",
    "  batch_size = batch_size\n",
    ")"
   ]
  },
  {
   "cell_type": "markdown",
   "metadata": {},
   "source": [
    "Now, we perform the actual training."
   ]
  },
  {
   "cell_type": "code",
   "execution_count": 15,
   "metadata": {},
   "outputs": [],
   "source": [
    "epoch_steps <- floor(trn_size/batch_size)\n",
    "\n",
    "history <- model %>%\n",
    "fit_generator(train_gen, epochs = 1, steps_per_epoch = epoch_steps)"
   ]
  },
  {
   "cell_type": "markdown",
   "metadata": {},
   "source": [
    "### Summary"
   ]
  },
  {
   "cell_type": "markdown",
   "metadata": {},
   "source": [
    "LSTMs are a versatile tool for prediction problems relating to time series. However, at the time of writing, there is no yet a clear consentssus on how they perform in comparison to more classical methods from time-series analysis such as [ARIMA](https://en.wikipedia.org/wiki/Autoregressive_integrated_moving_average) or [Holt-Winters](https://en.wikipedia.org/wiki/Exponential_smoothing) models."
   ]
  },
  {
   "cell_type": "markdown",
   "metadata": {},
   "source": [
    "As a rule of thumb, for univariate time series depending on a small number of covariates LSTMs are easily outperformed by established approaches from time series analysis. However, when dealing with multi-variate time series involving complex dependencies, carefully designed LSTMs often gain an edge. This is true in particular when using the [Seq2Seq architecture](https://google.github.io/seq2seq/) that we discuss in the problem class."
   ]
  },
  {
   "cell_type": "markdown",
   "metadata": {},
   "source": [
    "#### 10.45"
   ]
  },
  {
   "cell_type": "code",
   "execution_count": null,
   "metadata": {},
   "outputs": [],
   "source": []
  }
 ],
 "metadata": {
  "kernelspec": {
   "display_name": "R",
   "language": "R",
   "name": "ir"
  },
  "language_info": {
   "codemirror_mode": "r",
   "file_extension": ".r",
   "mimetype": "text/x-r-source",
   "name": "R",
   "pygments_lexer": "r",
   "version": "3.4.4"
  }
 },
 "nbformat": 4,
 "nbformat_minor": 2
}
